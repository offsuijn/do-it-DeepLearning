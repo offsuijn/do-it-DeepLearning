{
  "nbformat": 4,
  "nbformat_minor": 0,
  "metadata": {
    "kernelspec": {
      "display_name": "TensorFlow 2.4 on Python 3.8 & CUDA 11.1",
      "language": "python",
      "name": "python3"
    },
    "language_info": {
      "codemirror_mode": {
        "name": "ipython",
        "version": 3
      },
      "file_extension": ".py",
      "mimetype": "text/x-python",
      "name": "python",
      "nbconvert_exporter": "python",
      "pygments_lexer": "ipython3",
      "version": "3.8.7"
    },
    "colab": {
      "name": "Ch04.ipynb",
      "provenance": [],
      "collapsed_sections": [],
      "include_colab_link": true
    }
  },
  "cells": [
    {
      "cell_type": "markdown",
      "metadata": {
        "id": "view-in-github",
        "colab_type": "text"
      },
      "source": [
        "<a href=\"https://colab.research.google.com/github/offsuijn/do-it-DeepLearning/blob/main/Ch04.ipynb\" target=\"_parent\"><img src=\"https://colab.research.google.com/assets/colab-badge.svg\" alt=\"Open In Colab\"/></a>"
      ]
    },
    {
      "cell_type": "markdown",
      "metadata": {
        "id": "kOukJxo36Tpt"
      },
      "source": [
        "# 04 분류하는 뉴런을 만듭니다"
      ]
    },
    {
      "cell_type": "markdown",
      "metadata": {
        "id": "QnbqW0-haNmd"
      },
      "source": [
        "앞 챕터에서 배운 선형 회귀를 확장하여 분류 모델을 만든다.  \n",
        "그 중에서도 2가지 클래스를 구분하는 이진 분류를 다룰 것인데 이를 위해서는 로지스틱 회귀를 알아야합니다.  \n",
        "지금부터 로지스틱 회귀에 대해 알아보도록 하겠습니다."
      ]
    },
    {
      "cell_type": "markdown",
      "metadata": {
        "id": "hbcD4b710pDv"
      },
      "source": [
        "## 04-1 초기 인공지능 알고리즘과 로지스틱 회귀를 알아봅니다"
      ]
    },
    {
      "cell_type": "markdown",
      "metadata": {
        "id": "nl0i_DaA0pBK"
      },
      "source": [
        "### 1. 퍼셉트론\n",
        "선형 회귀와 유사하지만 마지막 단계에서 이진 분류를 하기 위해 계단 함수를 사용한다.</br>\n",
        "**계단 함수의 결과값**(1 / -1)을 이용하여 가중치를 학습한다.</br>\n",
        "- 선형 함수 : w1*x1 + w2*x2 + b = z </br>\n",
        " n개의 특성이 있는 함수 => w1*x1 + w2*x2 ... + wn*xn + b = z</br>\n",
        " x의 개수 = 특성의 개수, 각 특성마다 가중치를 두고 업데이트한다.\n",
        "- 계단 함수 : if (z > 0) ? 1 : -1\n",
        "\n",
        "### 2. 아달린\n",
        "퍼셉트론과 다르게 **선형 함수의 결과**를 학습에 사용한다.</br>\n",
        "계단 함수의 결과는 예측에만 활용한다.\n",
        "### 3. 로지스틱 회귀\n",
        "선형 함수의 값을 임계 함수에 보내기 전에 활성화 함수를 거친다.</br>\n",
        "**활성화 함수의 결과**를 학습에 사용한다.</br>\n",
        "임계 함수는 퍼셉트론이나 아달린의 계단 함수와 역할이 비슷하지만 활성화 함수의 출력값을 사용한다는 점에서 차이가 있다.\n",
        "\n",
        "## [ 활성화 함수는 비선형 함수를 사용합니다. ]\n",
        "- 활성화 함수 : 로지스틱 회귀가 선형 함수의 결과를 확률로 바꾸기 위해 사용하는 시그모이드 함수와 같은 함수</br>\n",
        "만약 활성화 함수가 선형 함수라면 둘을 쌓은 수식은 다시 하나의 큰 선형 함수가 되기 때문입니다.</br>\n",
        "따라서 비선형 문제를 해결하기 위해 활성화 함수는 의무적으로 비선형 함수를 사용하는데요, 로지스틱 회귀에서는 '시그모이드 함수'를 사용합니다."
      ]
    },
    {
      "cell_type": "markdown",
      "metadata": {
        "id": "Fs6ia2Y_6Tpv"
      },
      "source": [
        "## 04-2 시그모이드 함수를 알아봅니다\n",
        "\n"
      ]
    },
    {
      "cell_type": "markdown",
      "metadata": {
        "id": "4AOs-AkTin7D"
      },
      "source": [
        "### 시그모이드 함수의 역할\n",
        "\n",
        "로지스틱 회귀의 전체 구조 : 선형 함수 - 활성화 함수 [sigmoid function] - 임계 함수</br>\n",
        "시그모이드 함수는 선형함수의 값인 z를 0~1 사이의 확률값으로 변환시켜주는 역할을 한다.</br>\n",
        "즉, 시그모이드 함수를 통과하면 성공 확률을 알 수 있다.\n",
        "\n",
        "### 시그모이드 함수가 만들어지는 과정\n",
        "\n",
        "Odds Ratio => logit function => sigmoid function\n",
        "\n",
        "- Odds Ratio</br>\n",
        " -> 성공 확률과 실패 확률의 비율</br>\n",
        " p가 1에 가까워지면서 급격히 값이 증가한다.\n",
        "\n",
        "- logit function</br>\n",
        " -> Odds Ratio에 log를 씌운 것</br>\n",
        " p가 0에서 1로 변함에 따라서 매우 큰 음수에서 매우 큰 양수로 변한다.\n",
        "\n",
        "- sigmoid function</br>\n",
        " -> logit function의 역함수이다.\n",
        " 가로 축을 z로 놓아 선형 함수의 결과가 입력으로 들어갈 수 있도록 한다.\n",
        " 이 함수의 결과는 p로 성공 확률을 나타낸다.\n",
        " 시그모이드 함수를 로지스틱 함수라고도 부른다.\n"
      ]
    },
    {
      "cell_type": "markdown",
      "metadata": {
        "id": "MyUHdOYHYdqW"
      },
      "source": [
        "## 04-3 로지스틱 손실 함수를 경사하강법에 적용합니다 "
      ]
    },
    {
      "cell_type": "markdown",
      "metadata": {
        "id": "5bzjnO5lYllJ"
      },
      "source": [
        "## 경사하강법 (Gradient Descent)\n",
        " -> 학습률과 손실함수의 순간기울기(gradient)를 이용하여, Gradient가 낮아지는 방향으로 가중치(weight)를 업데이트하는 방법  \n",
        " 따라서 gradient가 있다면 [미분가능하다면] 경사하강법을 사용할 수 있다.  \n",
        " \n",
        " \n",
        " 선형 회귀 : 정답과 예상값이 오차 제곱이 최소가 되는 가중치와 절편 찾기 -> SE(오차제곱) 함수 사용  \n",
        " 분류 (로지스틱 회귀) : 올바르게 분류된 샘플의 데이터 비율 자체를 높이기 -> 로지스틱 손실 함수  \n",
        "\n",
        "\n",
        "## 로지스틱 손실 함수\n",
        " -> 다중 분류를 위한 손실 함수인 크로스 엔트로피 손실 함수를 이진 분류 버전으로 만든 것  \n",
        "Backpropagation에서 로지스틱 손실 함수를 다루는데, 로지스틱 회귀에서는 activate function[sigmoid]의 결과를 손실 함수의 입력[a]으로 사용한다.  \n",
        "로지스틱 손실 함수를 최소화하면 a를 최적의 값으로 만들 수 있다.\n",
        "\n",
        "  - 이 함수를 가중치와 절편에 대하여 미분하면 SE(제곱 오차)를 미분한 것과 동일한 결과를 얻을 수 있다.  \n",
        "   - 가중치에 대한 로지스틱 손실 함수의 미분 : -(y-a)x\n",
        "   - 절편에 대한 로지스틱 손실 함수의 미분 : -(y-a)1\n",
        "   - 로지스틱 손실 함수의 미분 과정은 선형 함수, 시그모이드를 거슬러 올라가며 도함수의 곱으로 표현된다.  \n",
        "  - 이렇게 로지스틱 손실 함수에 대한 미분이 연쇄 법칙에 의해 진행되는 구조를 보고 'gradient가 역전파된다'라고 말한다. => Backpropagation  \n",
        "\n",
        "- 가중치 업데이트 방법\n",
        " -> 로지스틱 손실함수를 가중치에 대해 미분한 식을 가중치에서 뺀다. : 손실을 최소화하기 위하여\n",
        "\n",
        " "
      ]
    },
    {
      "cell_type": "code",
      "metadata": {
        "id": "PRvMuLoO6Tpv"
      },
      "source": [
        "import numpy as np\n",
        "import matplotlib.pyplot as plt\n",
        "np.random.seed(42)"
      ],
      "execution_count": 3,
      "outputs": []
    },
    {
      "cell_type": "markdown",
      "metadata": {
        "id": "C-FdqLYtdXQU"
      },
      "source": [
        "### Odds ratio"
      ]
    },
    {
      "cell_type": "code",
      "metadata": {
        "id": "9sns13BN6Tpw",
        "colab": {
          "base_uri": "https://localhost:8080/",
          "height": 279
        },
        "outputId": "6e151329-b4b1-4fbf-b42e-62c644adeb11"
      },
      "source": [
        "probs = np.arange(0, 1, 0.01)\n",
        "odds = [p/(1-p) for p in probs]\n",
        "plt.plot(probs, odds)\n",
        "plt.xlabel('p')\n",
        "plt.ylabel('p/(1-p)')\n",
        "plt.show()"
      ],
      "execution_count": 4,
      "outputs": [
        {
          "output_type": "display_data",
          "data": {
            "image/png": "[encoded data removed]",
            "text/plain": [
              "<Figure size 432x288 with 1 Axes>"
            ]
          },
          "metadata": {
            "needs_background": "light"
          }
        }
      ]
    },
    {
      "cell_type": "markdown",
      "metadata": {
        "id": "EnB9JYEVdpYh"
      },
      "source": [
        "### Logit function"
      ]
    },
    {
      "cell_type": "code",
      "metadata": {
        "id": "kbTarhzh6Tpw",
        "colab": {
          "base_uri": "https://localhost:8080/",
          "height": 279
        },
        "outputId": "291549e0-7c73-428b-cd66-e01ad3ae80d4"
      },
      "source": [
        "probs  = np.arange(0.001, 0.999, 0.001)\n",
        "logit = [np.log(p/(1-p)) for p in probs]\n",
        "plt.plot(probs, logit)\n",
        "plt.xlabel('p')\n",
        "plt.ylabel('log(p/(1-p))')\n",
        "plt.show()"
      ],
      "execution_count": 5,
      "outputs": [
        {
          "output_type": "display_data",
          "data": {
            "image/png": "[encoded data removed]",
            "text/plain": [
              "<Figure size 432x288 with 1 Axes>"
            ]
          },
          "metadata": {
            "needs_background": "light"
          }
        }
      ]
    },
    {
      "cell_type": "markdown",
      "metadata": {
        "id": "5TOlX8AGdvM4"
      },
      "source": [
        "### Sigmoid function [Logistic function]"
      ]
    },
    {
      "cell_type": "code",
      "metadata": {
        "scrolled": true,
        "id": "IEs0YCZs6Tpx",
        "colab": {
          "base_uri": "https://localhost:8080/",
          "height": 279
        },
        "outputId": "4c130221-31c7-42f0-bacb-f3f8b1cc67fe"
      },
      "source": [
        "zs = np.arange(-10., 10., 0.1)\n",
        "gs = [1/(1+np.exp(-z)) for z in zs]\n",
        "plt.plot(zs, gs)\n",
        "plt.xlabel('z')\n",
        "plt.ylabel('1/(1+e^-z)')\n",
        "plt.show()"
      ],
      "execution_count": 6,
      "outputs": [
        {
          "output_type": "display_data",
          "data": {
            "image/png": "[encoded data removed]",
            "text/plain": [
              "<Figure size 432x288 with 1 Axes>"
            ]
          },
          "metadata": {
            "needs_background": "light"
          }
        }
      ]
    },
    {
      "cell_type": "markdown",
      "metadata": {
        "id": "V1dgq7rD6Tpx"
      },
      "source": [
        "## 04-4 분류용 데이터셋을 준비합니다"
      ]
    },
    {
      "cell_type": "markdown",
      "metadata": {
        "id": "9tqQdNwdgbkC"
      },
      "source": [
        "'음성 샘플(정상 종양)'과 '양성 샘플(악성 종양)'을 구분하는 이진 분류 문제 풀기"
      ]
    },
    {
      "cell_type": "code",
      "metadata": {
        "id": "nfghf4n7eZXw"
      },
      "source": [
        "from sklearn.datasets import load_breast_cancer\n",
        "cancer = load_breast_cancer()"
      ],
      "execution_count": 7,
      "outputs": []
    },
    {
      "cell_type": "code",
      "metadata": {
        "colab": {
          "base_uri": "https://localhost:8080/"
        },
        "id": "jsg5xNd_eZUf",
        "outputId": "56b5362d-e2cf-47d5-b03c-24e9508affdd"
      },
      "source": [
        "print(cancer.data.shape, cancer.target.shape)"
      ],
      "execution_count": 8,
      "outputs": [
        {
          "output_type": "stream",
          "name": "stdout",
          "text": [
            "(569, 30) (569,)\n"
          ]
        }
      ]
    },
    {
      "cell_type": "code",
      "metadata": {
        "colab": {
          "base_uri": "https://localhost:8080/"
        },
        "id": "cCrDoEIBeZCv",
        "outputId": "74f05cfd-c08a-4af4-8f13-d724c4e8eafb"
      },
      "source": [
        "cancer.data[:3]"
      ],
      "execution_count": 9,
      "outputs": [
        {
          "output_type": "execute_result",
          "data": {
            "text/plain": [
              "array([[1.799e+01, 1.038e+01, 1.228e+02, 1.001e+03, 1.184e-01, 2.776e-01,\n",
              "        3.001e-01, 1.471e-01, 2.419e-01, 7.871e-02, 1.095e+00, 9.053e-01,\n",
              "        8.589e+00, 1.534e+02, 6.399e-03, 4.904e-02, 5.373e-02, 1.587e-02,\n",
              "        3.003e-02, 6.193e-03, 2.538e+01, 1.733e+01, 1.846e+02, 2.019e+03,\n",
              "        1.622e-01, 6.656e-01, 7.119e-01, 2.654e-01, 4.601e-01, 1.189e-01],\n",
              "       [2.057e+01, 1.777e+01, 1.329e+02, 1.326e+03, 8.474e-02, 7.864e-02,\n",
              "        8.690e-02, 7.017e-02, 1.812e-01, 5.667e-02, 5.435e-01, 7.339e-01,\n",
              "        3.398e+00, 7.408e+01, 5.225e-03, 1.308e-02, 1.860e-02, 1.340e-02,\n",
              "        1.389e-02, 3.532e-03, 2.499e+01, 2.341e+01, 1.588e+02, 1.956e+03,\n",
              "        1.238e-01, 1.866e-01, 2.416e-01, 1.860e-01, 2.750e-01, 8.902e-02],\n",
              "       [1.969e+01, 2.125e+01, 1.300e+02, 1.203e+03, 1.096e-01, 1.599e-01,\n",
              "        1.974e-01, 1.279e-01, 2.069e-01, 5.999e-02, 7.456e-01, 7.869e-01,\n",
              "        4.585e+00, 9.403e+01, 6.150e-03, 4.006e-02, 3.832e-02, 2.058e-02,\n",
              "        2.250e-02, 4.571e-03, 2.357e+01, 2.553e+01, 1.525e+02, 1.709e+03,\n",
              "        1.444e-01, 4.245e-01, 4.504e-01, 2.430e-01, 3.613e-01, 8.758e-02]])"
            ]
          },
          "metadata": {},
          "execution_count": 9
        }
      ]
    },
    {
      "cell_type": "code",
      "metadata": {
        "colab": {
          "base_uri": "https://localhost:8080/",
          "height": 279
        },
        "id": "F3oeIRkreZA-",
        "outputId": "f6b1d045-01b1-4bca-9270-010e125283a2"
      },
      "source": [
        "import matplotlib.pyplot as plt\n",
        "import numpy as np\n",
        "\n",
        "plt.boxplot(cancer.data) # feature가 너무 많아 산점도로 표현하기 어려우므로 boxplot을 사용한다.\n",
        "plt.xlabel('feature')\n",
        "plt.ylabel('value')\n",
        "plt.show()"
      ],
      "execution_count": 10,
      "outputs": [
        {
          "output_type": "display_data",
          "data": {
            "image/png": "[encoded data removed]",
            "text/plain": [
              "<Figure size 432x288 with 1 Axes>"
            ]
          },
          "metadata": {
            "needs_background": "light"
          }
        }
      ]
    },
    {
      "cell_type": "code",
      "metadata": {
        "colab": {
          "base_uri": "https://localhost:8080/"
        },
        "id": "LnXPtpMXeY-a",
        "outputId": "494927b7-e42f-4c76-ec44-60ce5f0a9ee7"
      },
      "source": [
        "cancer.feature_names[[3,13,23]]"
      ],
      "execution_count": 11,
      "outputs": [
        {
          "output_type": "execute_result",
          "data": {
            "text/plain": [
              "array(['mean area', 'area error', 'worst area'], dtype='<U23')"
            ]
          },
          "metadata": {},
          "execution_count": 11
        }
      ]
    },
    {
      "cell_type": "code",
      "metadata": {
        "colab": {
          "base_uri": "https://localhost:8080/"
        },
        "id": "VMEN1pEVgaHb",
        "outputId": "ee2a5493-9db7-4bfd-806c-1dcced7109bc"
      },
      "source": [
        "np.unique(cancer.target, return_counts=True) # 1은 True, 0은 False"
      ],
      "execution_count": 12,
      "outputs": [
        {
          "output_type": "execute_result",
          "data": {
            "text/plain": [
              "(array([0, 1]), array([212, 357]))"
            ]
          },
          "metadata": {},
          "execution_count": 12
        }
      ]
    },
    {
      "cell_type": "code",
      "metadata": {
        "id": "OMTg4Rx7gZ42"
      },
      "source": [
        "x = cancer.data\n",
        "y = cancer.target"
      ],
      "execution_count": 13,
      "outputs": []
    },
    {
      "cell_type": "code",
      "metadata": {
        "id": "uVLuPQHog08Y"
      },
      "source": [
        "from sklearn.model_selection import train_test_split"
      ],
      "execution_count": 14,
      "outputs": []
    },
    {
      "cell_type": "code",
      "metadata": {
        "id": "xwnwl40Pg05i"
      },
      "source": [
        "x_train, x_test, y_train, y_test = train_test_split(x, y, test_size=0.2, stratify=y)"
      ],
      "execution_count": 15,
      "outputs": []
    },
    {
      "cell_type": "code",
      "metadata": {
        "colab": {
          "base_uri": "https://localhost:8080/"
        },
        "id": "ge0oShe5g0vK",
        "outputId": "142b0d11-28ce-497f-d31a-23f13271194c"
      },
      "source": [
        "print(x_train.shape, x_test.shape)"
      ],
      "execution_count": 16,
      "outputs": [
        {
          "output_type": "stream",
          "name": "stdout",
          "text": [
            "(455, 30) (114, 30)\n"
          ]
        }
      ]
    },
    {
      "cell_type": "code",
      "metadata": {
        "colab": {
          "base_uri": "https://localhost:8080/"
        },
        "id": "C11R3E27g0o2",
        "outputId": "5efa6aaa-9de3-477a-c008-35f16538d18c"
      },
      "source": [
        "np.unique(y_train, return_counts=True)"
      ],
      "execution_count": 17,
      "outputs": [
        {
          "output_type": "execute_result",
          "data": {
            "text/plain": [
              "(array([0, 1]), array([170, 285]))"
            ]
          },
          "metadata": {},
          "execution_count": 17
        }
      ]
    },
    {
      "cell_type": "code",
      "metadata": {
        "id": "3YtgqpjsNMnE"
      },
      "source": [
        "class LogisticNeuron:\n",
        "  \n",
        "  def __init__(self):\n",
        "    self.w = None\n",
        "    self.b = None\n",
        "\n",
        "  def forpass(self, x):\n",
        "    z = np.sum(x * self.w) + self.b # 직선 방정식 계산\n",
        "    return z\n",
        "\n",
        "  def backprop(self, x, err):\n",
        "    w_grad = x * err # 가중치 gradient\n",
        "    b_grad = 1 * err # 절편 gradient\n",
        "    return w_grad, b_grad\n",
        "\n",
        "  def activation(self, z):\n",
        "    z = np.clip(z, -100, None) # exp 계산을 위한 전처리\n",
        "    a = 1 / (1 + np.exp(-z)) # sigmoid 계산\n",
        "    return a\n",
        "\n",
        "  def fit(self, x, y, epochs=100):\n",
        "    self.w = np.ones(x.shape[1]) # 가중치 초기화\n",
        "    self.b = 0 # 절편 초기화\n",
        "    for i in range(epochs): # epochs만큼 반복\n",
        "      for x_i, y_i in zip(x, y): # 모든 샘플에 대해 반복\n",
        "        z = self.forpass(x_i) # 정방향 계산\n",
        "        a = self.activation(z) # 활성화 함수 적용\n",
        "        err = -(y_i - a) # 오차 계산\n",
        "        w_grad, b_grad = self.backprop(x_i, err) # 역방향 계산\n",
        "        self.w -= w_grad # 가중치 업데이트\n",
        "        self.b -= b_grad # 절편 업데이트\n",
        "\n",
        "  def predict(self, x):\n",
        "    z = [self.forpass(x_i) for x_i in x] # 선형 함수 적용\n",
        "    a = self.activation(np.array(z)) # 활성화 함수 적용\n",
        "    return a > 0.5 # 계단 함수 적용\n",
        "\n",
        "\n"
      ],
      "execution_count": 21,
      "outputs": []
    },
    {
      "cell_type": "code",
      "metadata": {
        "id": "4_j38xXJNMkV"
      },
      "source": [
        "neuron = LogisticNeuron()\n",
        "neuron.fit(x_train, y_train)"
      ],
      "execution_count": 22,
      "outputs": []
    },
    {
      "cell_type": "code",
      "metadata": {
        "colab": {
          "base_uri": "https://localhost:8080/"
        },
        "id": "MFoYpcFRNMhU",
        "outputId": "fc2efea8-7a43-4d8c-9516-cd5afe20d928"
      },
      "source": [
        "np.mean(neuron.predict(x_test) == y_test)"
      ],
      "execution_count": 23,
      "outputs": [
        {
          "output_type": "execute_result",
          "data": {
            "text/plain": [
              "0.8070175438596491"
            ]
          },
          "metadata": {},
          "execution_count": 23
        }
      ]
    },
    {
      "cell_type": "markdown",
      "metadata": {
        "id": "4ael9tj-Uhrz"
      },
      "source": [
        "## 04-6 단일층 신경망을 만들어 봅니다"
      ]
    },
    {
      "cell_type": "markdown",
      "metadata": {
        "id": "HaODhXscX-iO"
      },
      "source": [
        "### 단일층 신경망\n",
        "일반적인 신경망은 입력층과 가운데 여러 은닉층, 그리고 출력층으로 구성되어있다.  \n",
        "로지스틱 회귀는 은닉층이 없는 신경망이다. 이처럼 입력층과 출력층만 가지는 신경망을 단일층 신경망이라고 부른다.  \n",
        "\n",
        "\n",
        "위에서 구현한 Logistic Neuron은 성능이 82%로 아주 좋지는 않다.  \n",
        "정확도를 더 높이기위해 SingleLayer를 만들어서 ** 매 epoch마다 훈련 세트의 샘플 순서를 섞어서 사용**할 것이다.  \n",
        "이러한 과정 속에서 가중치 최적값의 탐색 과정이 다양해서 가중치 최적값을 제대로 찾을 수 있기 때문이다.\n",
        "\n"
      ]
    },
    {
      "cell_type": "code",
      "metadata": {
        "id": "hyJjQ4rTeY8z"
      },
      "source": [
        "class SingleLayer:\n",
        "  \n",
        "  def __init__(self):\n",
        "    self.w = None\n",
        "    self.b = None\n",
        "    self.losses = [] # epoch마다 각 샘플의 loss의 평균값을 저장\n",
        "\n",
        "  def forpass(self, x):\n",
        "    z = np.sum(x * self.w) + self.b # 직선 방정식 계산\n",
        "    return z\n",
        "\n",
        "  def backprop(self, x, err):\n",
        "    w_grad = x * err # 가중치 gradient\n",
        "    b_grad = 1 * err # 절편 gradient\n",
        "    return w_grad, b_grad\n",
        "\n",
        "  def activation(self, z):\n",
        "    z = np.clip(z, -100, None) # exp 계산을 위한 전처리\n",
        "    a = 1 / (1 + np.exp(-z)) # sigmoid 계산\n",
        "    return a\n",
        "\n",
        "  def fit(self, x, y, epochs=100):\n",
        "    self.w = np.ones(x.shape[1]) # 가중치 초기화\n",
        "    self.b = 0 # 절편 초기화\n",
        "    for i in range(epochs): # epochs만큼 반복\n",
        "      loss = 0 # loss 초기화\n",
        "      indexes = np.random.permutation(np.arange(len(x))) # index 섞기\n",
        "      for i in indexes: # 모든 샘플에 대해 반복\n",
        "        z = self.forpass(x[i]) # 정방향 계산\n",
        "        a = self.activation(z) # 활성화 함수 적용\n",
        "        err = -(y[i] - a) # 오차 계산\n",
        "        w_grad, b_grad = self.backprop(x[i], err) # 역방향 계산\n",
        "        self.w -= w_grad # 가중치 업데이트\n",
        "        self.b -= b_grad # 절편 업데이트\n",
        "        a = np.clip(a, 1e-10, 1-1e-10) # log 계산을 위한 전처리\n",
        "\n",
        "        loss += -(y[i]*np.log(a) + (1-y[i]*np.log(1-a))) # epoch마다 평균 손실을 저장\n",
        "      self.losses.append(loss/len(y))\n",
        "\n",
        "  def predict(self, x):\n",
        "    z = [self.forpass(x_i) for x_i in x] # 정방향 계산\n",
        "    return np.array(z) > 0 # 계단 함수 적용\n",
        "\n",
        "  def score(self, x, y):\n",
        "    return np.mean(self.predict(x) == y)\n"
      ],
      "execution_count": 30,
      "outputs": []
    },
    {
      "cell_type": "code",
      "metadata": {
        "colab": {
          "base_uri": "https://localhost:8080/"
        },
        "id": "8FqVFOV9eY5r",
        "outputId": "1bde22e4-c42d-4101-e29f-774ceea8fc0f"
      },
      "source": [
        "layer = SingleLayer()\n",
        "layer.fit(x_train, y_train)\n",
        "layer.score(x_test, y_test)"
      ],
      "execution_count": 32,
      "outputs": [
        {
          "output_type": "execute_result",
          "data": {
            "text/plain": [
              "0.9298245614035088"
            ]
          },
          "metadata": {},
          "execution_count": 32
        }
      ]
    },
    {
      "cell_type": "code",
      "metadata": {
        "colab": {
          "base_uri": "https://localhost:8080/",
          "height": 279
        },
        "id": "9nMlO_FoUMo1",
        "outputId": "5f685183-f262-4d59-ca7e-a14c9a595b07"
      },
      "source": [
        "plt.plot(layer.losses)\n",
        "plt.xlabel('epoch')\n",
        "plt.ylabel('loss')\n",
        "plt.show()"
      ],
      "execution_count": 34,
      "outputs": [
        {
          "output_type": "display_data",
          "data": {
            "image/png": "[encoded data removed]",
            "text/plain": [
              "<Figure size 432x288 with 1 Axes>"
            ]
          },
          "metadata": {
            "needs_background": "light"
          }
        }
      ]
    },
    {
      "cell_type": "markdown",
      "metadata": {
        "id": "9xm_Y7R_Zkz4"
      },
      "source": [
        "## 04-7 사이킷런의 경사 하강법을 사용해 봅니다"
      ]
    },
    {
      "cell_type": "markdown",
      "metadata": {
        "id": "NDHZTZicZmKS"
      },
      "source": [
        "지금까지 선형 회귀, 로지스틱 회귀 등의 신경망 알고리즘을 직접 구현했지만 사이킷런에는 미리 이러한 알고리즘이 구현되어있다.  \n",
        "사이킷런에 있는 SGDClassifier을 사용해 로지스틱 회귀를 수행해보겠다."
      ]
    },
    {
      "cell_type": "code",
      "metadata": {
        "id": "REYUuD6-Zl8Y"
      },
      "source": [
        "from sklearn.linear_model import SGDClassifier\n",
        "sgd = SGDClassifier(loss='log', max_iter=100, tol=1e-3)"
      ],
      "execution_count": 35,
      "outputs": []
    },
    {
      "cell_type": "code",
      "metadata": {
        "colab": {
          "base_uri": "https://localhost:8080/"
        },
        "id": "Y1LZfi6BUMlQ",
        "outputId": "d36b7aba-062b-4254-bf7b-69334b4c186f"
      },
      "source": [
        "sgd.fit(x_train, y_train)\n",
        "sgd.score(x_test, y_test)"
      ],
      "execution_count": 36,
      "outputs": [
        {
          "output_type": "execute_result",
          "data": {
            "text/plain": [
              "0.9385964912280702"
            ]
          },
          "metadata": {},
          "execution_count": 36
        }
      ]
    },
    {
      "cell_type": "code",
      "metadata": {
        "colab": {
          "base_uri": "https://localhost:8080/"
        },
        "id": "vK4L_yKjUMhj",
        "outputId": "54d13a9b-e527-40e3-8ce0-dcfe312dde7e"
      },
      "source": [
        "a = sgd.predict()\n",
        "print(a, y_test[:10])"
      ],
      "execution_count": 42,
      "outputs": [
        {
          "output_type": "stream",
          "name": "stdout",
          "text": [
            "[0 1 1 0 0 1 1 0 0 0] [0 1 0 1 0 1 1 0 0 0]\n"
          ]
        }
      ]
    }
  ]
}
